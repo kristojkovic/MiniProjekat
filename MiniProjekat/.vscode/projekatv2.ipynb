{
 "cells": [
  {
   "cell_type": "code",
   "execution_count": 1,
   "metadata": {},
   "outputs": [
    {
     "ename": "ModuleNotFoundError",
     "evalue": "No module named 'anomalib'",
     "output_type": "error",
     "traceback": [
      "\u001b[1;31m---------------------------------------------------------------------------\u001b[0m",
      "\u001b[1;31mModuleNotFoundError\u001b[0m                       Traceback (most recent call last)",
      "Cell \u001b[1;32mIn[1], line 1\u001b[0m\n\u001b[1;32m----> 1\u001b[0m \u001b[38;5;28;01mfrom\u001b[39;00m \u001b[38;5;21;01manomalib\u001b[39;00m\u001b[38;5;21;01m.\u001b[39;00m\u001b[38;5;21;01mconfig\u001b[39;00m \u001b[38;5;28;01mimport\u001b[39;00m get_configurable_parameters\n\u001b[0;32m      2\u001b[0m \u001b[38;5;28;01mfrom\u001b[39;00m \u001b[38;5;21;01manomalib\u001b[39;00m\u001b[38;5;21;01m.\u001b[39;00m\u001b[38;5;21;01mdata\u001b[39;00m\u001b[38;5;21;01m.\u001b[39;00m\u001b[38;5;21;01minference\u001b[39;00m \u001b[38;5;28;01mimport\u001b[39;00m InferenceDataset\n\u001b[0;32m      3\u001b[0m \u001b[38;5;28;01mfrom\u001b[39;00m \u001b[38;5;21;01manomalib\u001b[39;00m\u001b[38;5;21;01m.\u001b[39;00m\u001b[38;5;21;01mmodels\u001b[39;00m \u001b[38;5;28;01mimport\u001b[39;00m get_model\n",
      "\u001b[1;31mModuleNotFoundError\u001b[0m: No module named 'anomalib'"
     ]
    }
   ],
   "source": [
    "from anomalib.config import get_configurable_parameters\n",
    "from anomalib.data.inference import InferenceDataset\n",
    "from anomalib.models import get_model\n",
    "from anomalib.utils.callbacks import get_callbacks\n",
    "\n",
    "from PIL import Image\n",
    "import matplotlib.pyplot as plt\n",
    "import numpy as np\n",
    "import random\n",
    "\n",
    "\n"
   ]
  },
  {
   "cell_type": "code",
   "execution_count": null,
   "metadata": {},
   "outputs": [],
   "source": [
    "def infer(trainer):\n",
    "    \"\"\"Run inference.\"\"\"\n",
    "\n",
    "    #args = get_args()\n",
    "    config = get_configurable_parameters(config_path=new_yaml_path)\n",
    "    config.trainer.resume_from_checkpoint = str(trainer.checkpoint_callback.best_model_path)\n",
    "    #config.visualization.show_images = args.show\n",
    "    config.visualization.mode = \"simple\"\n",
    "    if infer_results:  # overwrite save path\n",
    "        config.visualization.save_images = True\n",
    "        config.visualization.image_save_path = infer_results\n",
    "    else:\n",
    "        config.visualization.save_images = False\n",
    "\n",
    "    model = get_model(config)\n",
    "    callbacks = get_callbacks(config)\n",
    "\n",
    "    trainer = Trainer(callbacks=callbacks, **config.trainer)\n",
    "\n",
    "    transform_config = config.dataset.transform_config.val if \"transform_config\" in config.dataset.keys() else None\n",
    "    dataset = InferenceDataset(\n",
    "        input_img, image_size=tuple(config.dataset.image_size), transform_config=transform_config\n",
    "    )\n",
    "    dataloader = DataLoader(dataset)\n",
    "    trainer.predict(model=model, dataloaders=[dataloader])"
   ]
  }
 ],
 "metadata": {
  "kernelspec": {
   "display_name": "Python 3",
   "language": "python",
   "name": "python3"
  },
  "language_info": {
   "codemirror_mode": {
    "name": "ipython",
    "version": 3
   },
   "file_extension": ".py",
   "mimetype": "text/x-python",
   "name": "python",
   "nbconvert_exporter": "python",
   "pygments_lexer": "ipython3",
   "version": "3.12.1"
  }
 },
 "nbformat": 4,
 "nbformat_minor": 2
}
